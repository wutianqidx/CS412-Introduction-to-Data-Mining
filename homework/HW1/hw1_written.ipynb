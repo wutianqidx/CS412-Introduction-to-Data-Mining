{
 "cells": [
  {
   "cell_type": "markdown",
   "metadata": {},
   "source": [
    "# Homework 1\n",
    "Tianqi Wu (twu38)"
   ]
  },
  {
   "cell_type": "markdown",
   "metadata": {},
   "source": [
    "### Question 1. Correlation Analysis"
   ]
  },
  {
   "cell_type": "code",
   "execution_count": 5,
   "metadata": {},
   "outputs": [],
   "source": [
    "# Import Data\n",
    "import pandas as pd\n",
    "filepath = \"/Users/wtq/Desktop/sp18/CS412/HW1/HW1-data/Q1-data.txt\"\n",
    "dic = {'Experiment':[], 'Substance A':[], 'Substance B':[], 'Water Pollution':[]}\n",
    "with open(filepath, 'r') as file:\n",
    "    for line in file:\n",
    "        l = line.split(' \\t ')\n",
    "        dic[l[0]] = [float(x) for x in l[1:]]\n",
    "data = pd.DataFrame(dic)"
   ]
  },
  {
   "cell_type": "markdown",
   "metadata": {},
   "source": [
    "#### 1. \n",
    "\n",
    "Equal-width binning is more appropriate for this dataset. Our purpose is to divide data into groups with low and high water quality. Equal-width binning divides water quality at 48.35, which separates water with low and high quality quite well, while equal-depth binning divides water quality at 15.8, which does not quite distinguish low and high water well. Groups are divided below:"
   ]
  },
  {
   "cell_type": "code",
   "execution_count": 10,
   "metadata": {},
   "outputs": [
    {
     "name": "stdout",
     "output_type": "stream",
     "text": [
      "[6.0, 6.7000000000000002, 7.5, 7.5999999999999996, 8.4000000000000004, 9.3000000000000007, 9.4000000000000004, 9.5999999999999996, 10.6, 11.199999999999999, 11.300000000000001, 11.5, 11.5, 11.9, 13.0, 13.800000000000001, 14.1, 14.9, 15.199999999999999, 15.800000000000001, 16.5, 17.699999999999999, 21.399999999999999, 55.5, 60.0, 61.399999999999999, 62.100000000000001, 64.900000000000006, 64.900000000000006, 69.0, 70.099999999999994, 73.400000000000006, 74.900000000000006, 76.799999999999997, 77.0, 77.900000000000006, 80.099999999999994, 81.200000000000003, 83.799999999999997, 90.700000000000003]\n",
      "Group 1\n",
      "     Experiment  Substance A  Substance B  Water Pollution\n",
      "2          3.0         7.59         76.7             73.4\n",
      "4          5.0         7.31         58.4             74.9\n",
      "7          8.0         7.34         83.4             64.9\n",
      "9         10.0         7.17         86.9             76.8\n",
      "13        14.0         7.79         61.4             55.5\n",
      "14        15.0         0.63         11.3             61.4\n",
      "16        17.0         7.21         88.0             90.7\n",
      "17        18.0         6.12         35.4             70.1\n",
      "18        19.0         4.24         53.3             60.0\n",
      "21        22.0         0.67          9.2             80.1\n",
      "23        24.0         1.44         32.9             64.9\n",
      "28        29.0         2.99         20.6             77.0\n",
      "30        31.0         8.62         78.9             81.2\n",
      "32        33.0         7.44         98.8             83.8\n",
      "35        36.0         1.74         12.7             69.0\n",
      "38        39.0         2.84         33.6             77.9\n",
      "39        40.0         1.43         26.2             62.1\n",
      "\n",
      "Group 2\n",
      "     Experiment  Substance A  Substance B  Water Pollution\n",
      "0          1.0         2.84         78.9             11.5\n",
      "1          2.0         9.34         52.6             17.7\n",
      "3          4.0         0.21         39.6             11.2\n",
      "5          6.0         2.77         98.1              6.0\n",
      "6          7.0         4.41          4.8             15.2\n",
      "8          9.0         9.94         16.4             14.1\n",
      "10        11.0         0.66         61.6             11.3\n",
      "11        12.0         2.73         67.2              9.4\n",
      "12        13.0         2.14         85.0             13.8\n",
      "15        16.0         7.36         13.0             21.4\n",
      "19        20.0         9.79         16.8              6.7\n",
      "20        21.0         5.07         87.9             13.0\n",
      "22        23.0         9.83         55.3              8.4\n",
      "24        25.0         5.76         94.4              9.3\n",
      "25        26.0         0.17         41.9              9.6\n",
      "26        27.0         7.90         15.5             11.5\n",
      "27        28.0         9.29         13.6              7.5\n",
      "29        30.0         2.00         93.3             11.9\n",
      "31        32.0         7.21         20.6             14.9\n",
      "33        34.0         8.70         48.3             15.8\n",
      "34        35.0         3.05         86.3             16.5\n",
      "36        37.0         3.41          1.6              7.6\n",
      "37        38.0         7.50         22.7             10.6\n"
     ]
    }
   ],
   "source": [
    "bin_value = (min(data['Water Pollution']) + max(data['Water Pollution']))/2\n",
    "group1 = data[data['Water Pollution'] > bin_value]\n",
    "group2 = data[data['Water Pollution'] <= bin_value]\n",
    "print(sorted(data['Water Pollution']))\n",
    "print(\"Group 1\\n\", group1)\n",
    "print(\"\\nGroup 2\\n\", group2)"
   ]
  },
  {
   "cell_type": "markdown",
   "metadata": {
    "collapsed": true
   },
   "source": [
    "#### 2. \n",
    "Normalize values for group 1 & 2:"
   ]
  },
  {
   "cell_type": "code",
   "execution_count": 62,
   "metadata": {},
   "outputs": [
    {
     "name": "stdout",
     "output_type": "stream",
     "text": [
      "Group 1 Normalized \n",
      " Substance A    Substance B \n",
      " [[ 0.87108886  0.75334821]\n",
      " [ 0.83604506  0.54910714]\n",
      " [ 0.83979975  0.828125  ]\n",
      " [ 0.81852315  0.8671875 ]\n",
      " [ 0.89612015  0.58258929]\n",
      " [ 0.          0.0234375 ]\n",
      " [ 0.82352941  0.87946429]\n",
      " [ 0.68710889  0.29241071]\n",
      " [ 0.45181477  0.4921875 ]\n",
      " [ 0.00500626  0.        ]\n",
      " [ 0.10137672  0.26450893]\n",
      " [ 0.29536921  0.12723214]\n",
      " [ 1.          0.77790179]\n",
      " [ 0.85231539  1.        ]\n",
      " [ 0.13892365  0.0390625 ]\n",
      " [ 0.27659574  0.27232143]\n",
      " [ 0.10012516  0.18973214]]\n",
      "\n",
      " Group 2 Normalized\n",
      " Substance A    Substance B \n",
      " [[ 0.27328557  0.80103627]\n",
      " [ 0.93858751  0.52849741]\n",
      " [ 0.00409417  0.39378238]\n",
      " [ 0.26612078  1.        ]\n",
      " [ 0.43398158  0.03316062]\n",
      " [ 1.          0.15336788]\n",
      " [ 0.05015353  0.62176166]\n",
      " [ 0.26202661  0.67979275]\n",
      " [ 0.20163767  0.8642487 ]\n",
      " [ 0.73592631  0.11813472]\n",
      " [ 0.98464688  0.15751295]\n",
      " [ 0.50153531  0.89430052]\n",
      " [ 0.98874104  0.55647668]\n",
      " [ 0.57215967  0.96165803]\n",
      " [ 0.          0.41761658]\n",
      " [ 0.79119754  0.14404145]\n",
      " [ 0.93346981  0.12435233]\n",
      " [ 0.18730809  0.95025907]\n",
      " [ 0.72057318  0.19689119]\n",
      " [ 0.87308086  0.48393782]\n",
      " [ 0.29477994  0.87772021]\n",
      " [ 0.33162743  0.        ]\n",
      " [ 0.75025589  0.21865285]]\n"
     ]
    }
   ],
   "source": [
    "from sklearn.preprocessing import MinMaxScaler\n",
    "scaler = MinMaxScaler()\n",
    "g1_normalized = scaler.fit_transform(group1[['Substance A', 'Substance B']])\n",
    "g2_normalized = scaler.fit_transform(group2[['Substance A', 'Substance B']])\n",
    "\n",
    "print(\"Group 1 Normalized \\n Substance A    Substance B \\n\", g1_normalized)\n",
    "print(\"\\n Group 2 Normalized\\n Substance A    Substance B \\n\", g2_normalized)"
   ]
  },
  {
   "cell_type": "code",
   "execution_count": null,
   "metadata": {
    "collapsed": true
   },
   "outputs": [],
   "source": []
  }
 ],
 "metadata": {
  "kernelspec": {
   "display_name": "Python 3",
   "language": "python",
   "name": "python3"
  },
  "language_info": {
   "codemirror_mode": {
    "name": "ipython",
    "version": 3
   },
   "file_extension": ".py",
   "mimetype": "text/x-python",
   "name": "python",
   "nbconvert_exporter": "python",
   "pygments_lexer": "ipython3",
   "version": "3.6.3"
  }
 },
 "nbformat": 4,
 "nbformat_minor": 2
}
