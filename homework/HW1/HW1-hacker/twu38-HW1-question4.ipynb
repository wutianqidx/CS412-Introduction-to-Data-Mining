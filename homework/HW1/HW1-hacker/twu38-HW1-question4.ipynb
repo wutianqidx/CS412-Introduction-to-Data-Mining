{
 "cells": [
  {
   "cell_type": "code",
   "execution_count": 3,
   "metadata": {
    "collapsed": true
   },
   "outputs": [],
   "source": [
    "import numpy as np\n",
    "from sklearn.decomposition import PCA\n",
    "from scipy.spatial.distance import cosine\n",
    "import matplotlib.pyplot as plt"
   ]
  },
  {
   "cell_type": "code",
   "execution_count": 4,
   "metadata": {
    "collapsed": true
   },
   "outputs": [],
   "source": [
    "filepath = \"Q4-analysis-input.in\"\n",
    "data = []\n",
    "with open(filepath) as file:\n",
    "    count = 0\n",
    "    for line in file:\n",
    "        if count == 0:\n",
    "            dimension = int(line)\n",
    "        if count == 1:\n",
    "            num_patients = int(line)\n",
    "        if count == 2:\n",
    "            dist_metric = int(line)\n",
    "        if count == 3:\n",
    "            num_components = int(line)\n",
    "        if count >= 4:\n",
    "            l = line.split(' ')\n",
    "            data.append([int(x) for x in l[:-1]])\n",
    "        count += 1\n",
    "\n",
    "data = np.asarray(data)"
   ]
  },
  {
   "cell_type": "code",
   "execution_count": 12,
   "metadata": {
    "collapsed": true
   },
   "outputs": [],
   "source": [
    "def get_distance(patient_a, patient_b, dist_metric):\n",
    "    if dist_metric == 1:\n",
    "        return sum(abs(patient_a - patient_b))\n",
    "    elif dist_metric == 2:\n",
    "        return sum((patient_a - patient_b)**2)**0.5\n",
    "    elif dist_metric == 3:\n",
    "        return max(abs(patient_a - patient_b))\n",
    "    elif dist_metric == 4:\n",
    "        return cosine(patient_a, patient_b)\n",
    "    else:\n",
    "        return None\n",
    "\n",
    "def rank_patients(patient_P, patients, num_patients, dist_metric):\n",
    "    index = range(num_patients)\n",
    "    distance = []\n",
    "    for i in index:\n",
    "        dist = get_distance(patient_P, patients[i], dist_metric)\n",
    "        distance.append(dist)\n",
    "        \n",
    "    sorted_index = [ind + 1 for dist, ind in sorted(zip(distance, index))]\n",
    "    \n",
    "    return sorted_index[0:5]\n",
    "\n",
    "def transform_pca(data, num_components):\n",
    "    pca = PCA(num_components)\n",
    "    pca.fit(data)\n",
    "    data_transformed = pca.transform(data)\n",
    "    explained_var = sum(pca.explained_variance_ratio_)\n",
    "    return data_transformed, explained_var"
   ]
  },
  {
   "cell_type": "code",
   "execution_count": 13,
   "metadata": {},
   "outputs": [
    {
     "data": {
      "image/png": "[encoded data removed]",
      "text/plain": [
       "<matplotlib.figure.Figure at 0x10ead59b0>"
      ]
     },
     "metadata": {},
     "output_type": "display_data"
    }
   ],
   "source": [
    "num_comp = [100, 10, 2, 1]\n",
    "y_var = []\n",
    "trans_data = []\n",
    "for i in num_comp:\n",
    "    tran_data,var = transform_pca(data, i)\n",
    "    y_var.append(var)\n",
    "    trans_data.append(tran_data)\n",
    "plt.plot(num_comp,y_var)\n",
    "plt.title('Q4.3 (1)')\n",
    "plt.xlabel('Number of Components')\n",
    "plt.ylabel('cumulative explained variance')\n",
    "plt.show()"
   ]
  },
  {
   "cell_type": "code",
   "execution_count": 14,
   "metadata": {},
   "outputs": [
    {
     "name": "stdout",
     "output_type": "stream",
     "text": [
      "[19, 46, 54, 56, 94]\n",
      "[19, 46, 54, 56, 94]\n",
      "[16, 29, 75, 79, 86]\n",
      "[19, 46, 54, 56, 94]\n"
     ]
    }
   ],
   "source": [
    "patient_P = data[0]\n",
    "patients = data[1:]\n",
    "for i in range(1,5):\n",
    "    patient = rank_patients(patient_P, patients, num_patients, i)\n",
    "    print(sorted(patient))"
   ]
  },
  {
   "cell_type": "code",
   "execution_count": 15,
   "metadata": {
    "scrolled": true
   },
   "outputs": [
    {
     "name": "stdout",
     "output_type": "stream",
     "text": [
      "[19, 54, 56, 94, 95]\n",
      "[19, 46, 54, 56, 94]\n",
      "[5, 19, 46, 54, 56]\n",
      "[19, 46, 54, 56, 94]\n"
     ]
    }
   ],
   "source": [
    "patient_P_100 = trans_data[0][0]\n",
    "patients_100 = trans_data[0][1:]\n",
    "for i in range(1,5):\n",
    "    patient_100 = rank_patients(patient_P_100, patients_100, num_patients, i)\n",
    "    print(sorted(patient_100))"
   ]
  },
  {
   "cell_type": "code",
   "execution_count": 16,
   "metadata": {},
   "outputs": [
    {
     "name": "stdout",
     "output_type": "stream",
     "text": [
      "[19, 46, 54, 56, 94]\n",
      "[19, 46, 54, 56, 94]\n",
      "[19, 44, 46, 54, 94]\n",
      "[19, 46, 54, 56, 94]\n"
     ]
    }
   ],
   "source": [
    "patient_P_10 = trans_data[1][0]\n",
    "patients_10 = trans_data[1][1:]\n",
    "for i in range(1,5):\n",
    "    patient_10 = rank_patients(patient_P_10, patients_10, num_patients, i)\n",
    "    print(sorted(patient_10))"
   ]
  },
  {
   "cell_type": "code",
   "execution_count": 17,
   "metadata": {},
   "outputs": [
    {
     "name": "stdout",
     "output_type": "stream",
     "text": [
      "[5, 44, 62, 70, 94]\n",
      "[5, 44, 62, 70, 94]\n",
      "[44, 62, 70, 91, 94]\n",
      "[16, 44, 62, 70, 94]\n"
     ]
    }
   ],
   "source": [
    "patient_P_2 = trans_data[2][0]\n",
    "patients_2 = trans_data[2][1:]\n",
    "for i in range(1,5):\n",
    "    patient_2 = rank_patients(patient_P_2, patients_2, num_patients, i)\n",
    "    print(sorted(patient_2))"
   ]
  },
  {
   "cell_type": "code",
   "execution_count": 18,
   "metadata": {},
   "outputs": [
    {
     "name": "stdout",
     "output_type": "stream",
     "text": [
      "[16, 44, 62, 70, 94]\n",
      "[16, 44, 62, 70, 94]\n",
      "[16, 44, 62, 70, 94]\n",
      "[5, 6, 10, 12, 14]\n"
     ]
    }
   ],
   "source": [
    "patient_P_1 = trans_data[3][0]\n",
    "patients_1 = trans_data[3][1:]\n",
    "for i in range(1,5):\n",
    "    patient_1 = rank_patients(patient_P_1, patients_1, num_patients, i)\n",
    "    print(sorted(patient_1))"
   ]
  }
 ],
 "metadata": {
  "kernelspec": {
   "display_name": "Python 3",
   "language": "python",
   "name": "python3"
  },
  "language_info": {
   "codemirror_mode": {
    "name": "ipython",
    "version": 3
   },
   "file_extension": ".py",
   "mimetype": "text/x-python",
   "name": "python",
   "nbconvert_exporter": "python",
   "pygments_lexer": "ipython3",
   "version": "3.8.5"
  }
 },
 "nbformat": 4,
 "nbformat_minor": 2
}
