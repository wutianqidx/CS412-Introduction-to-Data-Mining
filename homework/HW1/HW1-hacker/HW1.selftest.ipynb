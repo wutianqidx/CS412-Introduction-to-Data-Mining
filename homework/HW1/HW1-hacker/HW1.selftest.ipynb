{
 "cells": [
  {
   "cell_type": "code",
   "execution_count": 84,
   "metadata": {
    "collapsed": true
   },
   "outputs": [],
   "source": [
    "import pandas as pd\n",
    "import numpy as np\n",
    "from scipy.spatial import distance\n",
    "from sklearn.decomposition import PCA"
   ]
  },
  {
   "cell_type": "code",
   "execution_count": 85,
   "metadata": {},
   "outputs": [
    {
     "name": "stdout",
     "output_type": "stream",
     "text": [
      "[[  0  71   0 ...,   0   0 524]\n",
      " [  0  41  82 ...,   0 284 423]\n",
      " [  0   0   1 ...,   0  34 508]\n",
      " ..., \n",
      " [  2  15  48 ...,   0   0 453]\n",
      " [  8   0  38 ...,   0 189 403]\n",
      " [  0   0   0 ...,   0  10 365]]\n"
     ]
    }
   ],
   "source": [
    "filepath = 'Q4-analysis-input.in'\n",
    "count = 0\n",
    "patients = []\n",
    "with open (filepath) as file:  \n",
    "    for line in file:\n",
    "        if count == 0:\n",
    "            num_dim = int(line)\n",
    "        elif count == 1:\n",
    "            num_pat = int(line)   \n",
    "        elif count == 2:\n",
    "            dis_met = int(line) \n",
    "        elif count == 3:\n",
    "            num_com = int(line)\n",
    "        elif count == 4:\n",
    "            words = line.split(' ')\n",
    "            patient_p = [int(i) for i in words[:-1]]\n",
    "        else:\n",
    "            words = line.split(' ')\n",
    "            patient = [int(i) for i in words[:-1]]\n",
    "            patients.append(patient)\n",
    "        count+=1\n",
    "patient_p = np.asarray(patient_p)\n",
    "patients = np.asarray(patients) \n",
    "print(patients)"
   ]
  },
  {
   "cell_type": "code",
   "execution_count": 86,
   "metadata": {},
   "outputs": [
    {
     "name": "stdout",
     "output_type": "stream",
     "text": [
      "[54, 19, 56, 94, 46]\n"
     ]
    }
   ],
   "source": [
    "def measure_dis(patient_p,patients,dis_met):\n",
    "    dist = []\n",
    "    patient_5= []\n",
    "    if dis_met == 1:\n",
    "        for i in range(len(patients)):\n",
    "            dist.append(distance.cityblock(patient_p,patients[i]))\n",
    "    if dis_met == 2:\n",
    "        for i in range(len(patients)):\n",
    "            dist.append(distance.chebyshev(patient_p,patients[i]))\n",
    "    if dis_met == 3:\n",
    "        for i in range(len(patients)):\n",
    "            dist.append(distance.euclidean(patient_p,patients[i]))\n",
    "    if dis_met == 4:\n",
    "        for i in range(len(patients)):\n",
    "            dist.append(distance.cosine(patient_p,patients[i]))               \n",
    "    top_5 = sorted(dist)[0:5]\n",
    "    for i in range(5):\n",
    "         patient_5.append(dist.index(top_5[i])+1)\n",
    "    return patient_5\n",
    "print(measure_dis(patient_p,patients,4))"
   ]
  },
  {
   "cell_type": "code",
   "execution_count": 92,
   "metadata": {
    "collapsed": true
   },
   "outputs": [],
   "source": [
    "def transfor_pca(patient_p,patients,num_com):\n",
    "    pca = PCA(num_com,random_state=0)\n",
    "    patients = pca.fit_transform(patients)\n",
    "    return patient_p, patients"
   ]
  },
  {
   "cell_type": "code",
   "execution_count": 93,
   "metadata": {},
   "outputs": [],
   "source": [
    "patient_p, patients = transfor_pca(patient_p,patients,1)"
   ]
  },
  {
   "cell_type": "code",
   "execution_count": null,
   "metadata": {
    "collapsed": true
   },
   "outputs": [],
   "source": []
  }
 ],
 "metadata": {
  "kernelspec": {
   "display_name": "Python 3",
   "language": "python",
   "name": "python3"
  },
  "language_info": {
   "codemirror_mode": {
    "name": "ipython",
    "version": 3
   },
   "file_extension": ".py",
   "mimetype": "text/x-python",
   "name": "python",
   "nbconvert_exporter": "python",
   "pygments_lexer": "ipython3",
   "version": "3.8.5"
  }
 },
 "nbformat": 4,
 "nbformat_minor": 2
}
